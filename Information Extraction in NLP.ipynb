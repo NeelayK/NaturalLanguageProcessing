{
 "cells": [
  {
   "cell_type": "markdown",
   "id": "f1fb99e2-fb18-4a67-b8ce-d1f2b096ac3b",
   "metadata": {},
   "source": [
    "<h1>Information Extraction in NLP</h1>"
   ]
  },
  {
   "cell_type": "markdown",
   "id": "a626c436-eb59-4ccb-865e-534fc160e58b",
   "metadata": {},
   "source": [
    "<p>IE aims to extract structured data from unstructured text, which improves efficiency in analyzing and utilizing data.</p>\n",
    "\n",
    "<h2>Named Entity Recognition (NER)</h2>\n",
    "<p>NER is a subtask of IE in NLP that identifies and classifies named entities in text into predefined categories.</p>"
   ]
  },
  {
   "cell_type": "code",
   "execution_count": 19,
   "id": "275bc894-699f-46c5-9a45-34c5c3e36e84",
   "metadata": {},
   "outputs": [
    {
     "name": "stdout",
     "output_type": "stream",
     "text": [
      "Entity: 7 minutes after midnight, Type: TIME\n",
      "Entity: Mrs Shears, Type: PERSON\n"
     ]
    }
   ],
   "source": [
    "import spacy\n",
    "\n",
    "nlp = spacy.load(\"en_core_web_sm\")\n",
    "\n",
    "Sample = nlp(\"It was 7 minutes after midnight. The dog was lying on the grass in the middle of the lawn in front of Mrs Shears’ house.\")\n",
    "\n",
    "for ent in Sample.ents:\n",
    "    print(f\"Entity: {ent.text}, Type: {ent.label_}\")"
   ]
  },
  {
   "cell_type": "markdown",
   "id": "92f62c6f-37ac-4950-8b2e-071b1f6a6765",
   "metadata": {},
   "source": [
    "<h2>NER Methods</h2>\n",
    "<h4>Rule-Based Approaches: Use handcrafted rules based on patterns and dictionaries.</h4>\n",
    "<h4>Statistical Machine Learning Approaches:Train models on texts labeled with named entities. (HMM, linear chain CRF) </h4>\n",
    "<h4>Use deep neural networks, such as Bi-directional LSTMs or Transformers to learn from large amounts of text data. </h4>"
   ]
  },
  {
   "cell_type": "markdown",
   "id": "8017e0b9-4340-4129-bf1f-df2f758e3d06",
   "metadata": {},
   "source": [
    "<h2>Relational Extraction</h2>\n",
    "<p>Relational Extraction (RE) identifies and extracts relationships between entities in a text.</p>"
   ]
  },
  {
   "cell_type": "markdown",
   "id": "8a0df39c-958d-4461-8ea6-a8e6a59db88f",
   "metadata": {},
   "source": [
    "<h3>Binary Relationship Extraction </h3>\n",
    "<p>This extraction process focuses on identifying and categorizing relationships between pairs of entities, which is a fundamental form of relationship extraction and is often used when the relationships are simple and can be expressed as pairs.</p>"
   ]
  },
  {
   "cell_type": "markdown",
   "id": "2c315f27-a50f-4f5f-a875-1aa451e0b206",
   "metadata": {},
   "source": [
    "<h3>Ternary Relationship Extraction</h3>\n",
    "    <p>Ternary relationship extraction is an advanced natural language processing (NLP) task that extends the concept of binary relationship extraction by identifying and extracting relationships involving three entities from unstructured text data.</p>"
   ]
  },
  {
   "cell_type": "markdown",
   "id": "be9d2625-8490-4bac-a751-89b1f6d647fc",
   "metadata": {},
   "source": [
    "<h3>Nested Relationship Extraction</h3>\n",
    "<p>This extraction process is used when relationships within a text are hierarchical or embedded within one another.</p>"
   ]
  },
  {
   "cell_type": "markdown",
   "id": "17566e19-9c2a-4226-8b87-395a3f9ae34f",
   "metadata": {},
   "source": [
    "<h3>Temporal Relationship Extraction</h3>\n",
    "<p>This extraction focuses on identifying relationships with a temporal dimension which includes determining when an event occurred or when a relationship was valid.</p> "
   ]
  },
  {
   "cell_type": "markdown",
   "id": "62911ae7-e9d1-48d1-85f9-5bd7a2c2f47e",
   "metadata": {},
   "source": [
    "<h2>Event Extraction</h2>\n",
    "<p>Event extraction is a process that involves identifying and extracting structured representations of events from unstructured text. An event consists of a trigger word and a set of arguments that provide additional information such as the entities involved, locations, times, and causes.</p>"
   ]
  },
  {
   "cell_type": "markdown",
   "id": "7eafb700-49c7-41b4-a312-3c8520caf509",
   "metadata": {},
   "source": [
    "<h2>Coreference Resolution</h2>\n",
    "<p>Coreference resolution identifies expressions in a text that refer to the same entity. It helps NLP models understand context by linking pronouns, noun phrases, or other references back to the correct entity.</p>\n",
    "\n",
    "<h3>Pronominal Coreference</h3>\n",
    "<p>Resolving pronouns to their corresponding nouns.</p>\n",
    "\n",
    "<h3>Nominal Coreference</h3>\n",
    "<p>Resolving different noun phrases referring to the same entity.</p>\n",
    "\n",
    "<h3>Demonstrative Coreference</h3>\n",
    "<p>Resolving words like this, that, these, those when they refer to a previously mentioned entity.</p>\n",
    "\n",
    "<h3>Cataphoric Reference</h3>\n",
    "<p>When a pronoun appears before the noun it refers to.</p>"
   ]
  },
  {
   "cell_type": "markdown",
   "id": "d2358142-3951-407f-afe5-3d93549fe409",
   "metadata": {},
   "source": [
    "<h2>Template Filling</h2>\n",
    "<p>Template filling is an information extraction task where a system identifies key pieces of information from text and fills predefined templates with relevant data. It helps convert unstructured text into structured information, making it useful for databases, reports, and AI-driven applications.</p>"
   ]
  },
  {
   "cell_type": "markdown",
   "id": "9f22a302-cda9-4205-91c4-b540578186bc",
   "metadata": {},
   "source": [
    "<h2>Open Information Extraction (OpenIE) </h2>\n",
    "<p>OpenIE is an unsupervised method for extracting structured subject-predicate-object triples from unstructured text. OpenIE does not require predefined schemas and can extract facts from any domain.</p>"
   ]
  }
 ],
 "metadata": {
  "kernelspec": {
   "display_name": "Python 3 (ipykernel)",
   "language": "python",
   "name": "python3"
  },
  "language_info": {
   "codemirror_mode": {
    "name": "ipython",
    "version": 3
   },
   "file_extension": ".py",
   "mimetype": "text/x-python",
   "name": "python",
   "nbconvert_exporter": "python",
   "pygments_lexer": "ipython3",
   "version": "3.12.5"
  }
 },
 "nbformat": 4,
 "nbformat_minor": 5
}
